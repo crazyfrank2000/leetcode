{
 "cells": [
  {
   "cell_type": "markdown",
   "metadata": {},
   "source": [
    "1. 什么是BIF？Python提供了多少个BIF\n",
    "2. TUling与tuling是否一致\n",
    "3. = 与 == 运用与区别\n",
    "4. 字符串的拼接\n",
    "5. 程序，要求用户输入名字，并打印“你好，XX”\n",
    "6. 程序，输入1-100的数字，并判断，符合要求的打印“你好看”，不符合的打印“你丑八怪，天黑别把灯打开”"
   ]
  },
  {
   "cell_type": "markdown",
   "metadata": {},
   "source": [
    "- BIF 是build in function，内建函数，有68个\n",
    "- TUling与tuling是不同的，python语言区分大小写\n",
    "- =赋值，==是判断\n"
   ]
  },
  {
   "cell_type": "code",
   "execution_count": 13,
   "metadata": {},
   "outputs": [
    {
     "name": "stdout",
     "output_type": "stream",
     "text": [
      "the str is :bbbaaa\n",
      "请输入您的名字：franl\n",
      "Hello，franl\n"
     ]
    }
   ],
   "source": [
    "mystr='bbb'+ 'aaa';\n",
    "print(\"the str is :\" + mystr);\n",
    "name=input('请输入您的名字：');\n",
    "print(\"Hello，\"+ name );"
   ]
  },
  {
   "cell_type": "code",
   "execution_count": 22,
   "metadata": {},
   "outputs": [
    {
     "name": "stdout",
     "output_type": "stream",
     "text": [
      "please input a number between 1-100 : ipo\n",
      "丑八怪，天黑别开灯\n"
     ]
    }
   ],
   "source": [
    "number = input('please input a number between 1-100 : ');\n",
    "# print(type(number))\n",
    "if number.isdigit():\n",
    "    temp=int(number)\n",
    "    if 1<=temp<=100:\n",
    "      print('the number is ',+ temp);\n",
    "    else:\n",
    "        print('dummy');\n",
    "else:\n",
    "    print(\"丑八怪，天黑别开灯\");\n"
   ]
  },
  {
   "cell_type": "markdown",
   "metadata": {},
   "source": [
    "- 10 < cost < 50 的等价表达式\n",
    "- 用int将小数转换成整数，结果是向上取整，或者向下取整\n",
    "- 写一个程序判断给定的年份是否是闰年\n",
    "- 给用户三次机会，猜想我们程序生成的一个数字A，每次用户猜想后提示数值是否正确，以及数值是否大于或者小于A，当机会用尽后提示用户输掉了游戏"
   ]
  },
  {
   "cell_type": "markdown",
   "metadata": {},
   "source": [
    "- 10<cost<50 等价于 (10<cost)and(cost<50)\n",
    "- int(number)??\n",
    "向下取整"
   ]
  },
  {
   "cell_type": "code",
   "execution_count": 27,
   "metadata": {},
   "outputs": [
    {
     "name": "stdout",
     "output_type": "stream",
     "text": [
      "3\n"
     ]
    }
   ],
   "source": [
    "print(int(3.4))"
   ]
  },
  {
   "cell_type": "code",
   "execution_count": 28,
   "metadata": {},
   "outputs": [
    {
     "data": {
      "text/plain": [
       "2"
      ]
     },
     "execution_count": 28,
     "metadata": {},
     "output_type": "execute_result"
    }
   ],
   "source": [
    "6%4"
   ]
  },
  {
   "cell_type": "code",
   "execution_count": 31,
   "metadata": {},
   "outputs": [
    {
     "name": "stdout",
     "output_type": "stream",
     "text": [
      "please input a calendar year: 2001\n",
      "不是闰年\n"
     ]
    }
   ],
   "source": [
    "year = input('please input a calendar year: ');\n",
    "# 满足闰年条件\n",
    "# 能被4整除，且不能被100整除\n",
    "# 能被400整除\n",
    "if year.isdigit():\n",
    "    year = int(year);\n",
    "    if year%4==0 :\n",
    "        print(str(year)+\"是闰年！\");\n",
    "    else:\n",
    "        print('不是闰年');\n",
    "else:\n",
    "    print(\"请输入年份:\");"
   ]
  },
  {
   "cell_type": "code",
   "execution_count": 44,
   "metadata": {},
   "outputs": [],
   "source": [
    "import random;\n",
    "secert = random.randint(1,100);"
   ]
  },
  {
   "cell_type": "code",
   "execution_count": 51,
   "metadata": {},
   "outputs": [
    {
     "name": "stdout",
     "output_type": "stream",
     "text": [
      "please input a number:90\n",
      "你猜大了！\n",
      "please input a number:50\n",
      "你猜大了！\n",
      "please input a number:30\n",
      "你猜对了。\n",
      "game over\n"
     ]
    }
   ],
   "source": [
    "import random;\n",
    "\n",
    "count = 3;\n",
    "target = random.randint(1,100); #生成随机数\n",
    "\n",
    "\n",
    "while count > 0:\n",
    "    guess= input(\"please input a number:\");\n",
    "    if guess.isdigit():\n",
    "        temp = int(guess);\n",
    "        if temp == target:\n",
    "            print(\"你猜对了。\");\n",
    "            break;\n",
    "        elif temp < target:\n",
    "            print(\"你猜的小了\");\n",
    "            #count = count -1;\n",
    "        else:\n",
    "            print(\"你猜大了！\");\n",
    "            #count = count -1;\n",
    "    else:\n",
    "        print(\"请输入数字：\");\n",
    "        \n",
    "print(\"game over\");"
   ]
  },
  {
   "cell_type": "markdown",
   "metadata": {},
   "source": [
    "1. 编写程序，打印出0-100所有的基数\n",
    "2. 爱因斯坦出过这样一道数学题，有个长阶梯，若每步上2阶，最后余1阶；若每步上3阶，最后余2阶；若每步跨5阶，最后余4阶；若每次上6阶，最后剩5阶；只有每次上7阶，最后正好一阶不剩\n",
    "    问：该阶梯至少有多少阶？？？"
   ]
  },
  {
   "cell_type": "code",
   "execution_count": 2,
   "metadata": {},
   "outputs": [
    {
     "name": "stdout",
     "output_type": "stream",
     "text": [
      "all the cardinal number is  [1, 3, 5, 7, 9, 11, 13, 15, 17, 19, 21, 23, 25, 27, 29, 31, 33, 35, 37, 39, 41, 43, 45, 47, 49, 51, 53, 55, 57, 59, 61, 63, 65, 67, 69, 71, 73, 75, 77, 79, 81, 83, 85, 87, 89, 91, 93, 95, 97, 99]\n"
     ]
    }
   ],
   "source": [
    "number=[];\n",
    "for i in range(0,101):\n",
    "    if i%2 == 0:\n",
    "        pass;\n",
    "    else:\n",
    "        number.append(i);\n",
    "        \n",
    "print(\"all the cardinal number is \", number);\n",
    "    "
   ]
  },
  {
   "cell_type": "code",
   "execution_count": 38,
   "metadata": {},
   "outputs": [
    {
     "name": "stdout",
     "output_type": "stream",
     "text": [
      "119\n",
      "329\n",
      "539\n",
      "749\n",
      "959\n",
      "the end\n"
     ]
    }
   ],
   "source": [
    "x = 0;\n",
    "for x in range(0,1000):\n",
    "    if (x%2==1) and (x%3==2) and (x%5==4) and (x%6==5) and (x%7==0):\n",
    "        print(x);\n",
    "        #break;\n",
    "    else:\n",
    "        pass;\n",
    "\n",
    "        \n",
    "print(\"the end\");\n"
   ]
  },
  {
   "cell_type": "code",
   "execution_count": 34,
   "metadata": {},
   "outputs": [
    {
     "name": "stdout",
     "output_type": "stream",
     "text": [
      "119\n"
     ]
    }
   ],
   "source": [
    "x = 0;\n",
    "while x < 1000:\n",
    "    if (x%2==1) and (x%3==2) and (x%5==4) and (x%6==5) and (x%7==0):\n",
    "        print(x);\n",
    "        break;\n",
    "    else:\n",
    "        x += 1;"
   ]
  },
  {
   "cell_type": "markdown",
   "metadata": {},
   "source": [
    "这行代码什么意思\n",
    "if not (money<100)\n",
    "money >= 100"
   ]
  },
  {
   "cell_type": "markdown",
   "metadata": {},
   "source": [
    "假设有x=1，y=2,z=3,如何快速处理这三个值相互交换\n"
   ]
  },
  {
   "cell_type": "code",
   "execution_count": 4,
   "metadata": {},
   "outputs": [
    {
     "name": "stdout",
     "output_type": "stream",
     "text": [
      "1\n",
      "2\n",
      "3\n",
      "3\n",
      "1\n",
      "2\n"
     ]
    }
   ],
   "source": [
    "x,y,z=1,2,3;\n",
    "print(x);\n",
    "print(y);\n",
    "print(z);\n",
    "#temp=x;\n",
    "#x=y;\n",
    "#y=z;\n",
    "#z=temp;\n",
    "x,y,z=z,x,y;\n",
    "print(x);\n",
    "print(y);\n",
    "print(z);"
   ]
  },
  {
   "cell_type": "markdown",
   "metadata": {},
   "source": [
    "成员资格运算符in的用法，in 与 not in"
   ]
  },
  {
   "cell_type": "markdown",
   "metadata": {},
   "source": [
    "range（）函数的用法\n",
    "range(起始位置，终点位置，步幅）\n"
   ]
  },
  {
   "cell_type": "code",
   "execution_count": 7,
   "metadata": {},
   "outputs": [
    {
     "name": "stdout",
     "output_type": "stream",
     "text": [
      "True\n"
     ]
    }
   ],
   "source": [
    "ls = range(0,100); # 包含0, 不包含100\n",
    "if 0 in ls:\n",
    "    print(True);\n",
    "else:\n",
    "    print(False);\n",
    "    "
   ]
  },
  {
   "cell_type": "code",
   "execution_count": 8,
   "metadata": {},
   "outputs": [
    {
     "name": "stdout",
     "output_type": "stream",
     "text": [
      "frank\n",
      "frank\n",
      "frank\n",
      "frank\n",
      "frank\n"
     ]
    }
   ],
   "source": [
    "for i in range(0,10,2):\n",
    "    print(\"frank\");\n",
    "    "
   ]
  },
  {
   "cell_type": "markdown",
   "metadata": {},
   "source": [
    "目测该程序返回啥"
   ]
  },
  {
   "cell_type": "code",
   "execution_count": 10,
   "metadata": {},
   "outputs": [
    {
     "name": "stdout",
     "output_type": "stream",
     "text": [
      "1\n",
      "2\n",
      "3\n"
     ]
    }
   ],
   "source": [
    "while True:\n",
    "    while True:\n",
    "        print (1);\n",
    "        break;\n",
    "    print(2);\n",
    "    break;\n",
    "print(3);"
   ]
  },
  {
   "cell_type": "markdown",
   "metadata": {},
   "source": [
    "从代码效率考虑，以下代码有啥问题，如何改进？\n",
    "i = 0;\n",
    "string = \"ilovetuling\";\n",
    "while i< len(string):\n",
    "    print(i);\n",
    "    i += 1\n",
    "    \n",
    " 重复调用len函数"
   ]
  },
  {
   "cell_type": "code",
   "execution_count": 12,
   "metadata": {},
   "outputs": [
    {
     "name": "stdout",
     "output_type": "stream",
     "text": [
      "0\n",
      "1\n",
      "2\n",
      "3\n",
      "4\n",
      "5\n",
      "6\n",
      "7\n",
      "8\n",
      "9\n",
      "10\n"
     ]
    }
   ],
   "source": [
    "i = 0;\n",
    "string = \"ilovetuling\";\n",
    "leng = len(string);\n",
    "while i< leng:\n",
    "    print(i);\n",
    "    i += 1;"
   ]
  },
  {
   "cell_type": "markdown",
   "metadata": {},
   "source": [
    "设计一个严重用户密码的程序，用户只有三次输入错误的机会，不过如果用户输入的内容包括“*”则不计算在内\n"
   ]
  },
  {
   "cell_type": "code",
   "execution_count": 20,
   "metadata": {},
   "outputs": [
    {
     "name": "stdout",
     "output_type": "stream",
     "text": [
      "请输入密码*2323\n",
      "* can not be accepted!\n",
      "请输入密码13\n",
      "输入密码错误\n",
      "请输入密码abc123\n",
      "password correct!\n"
     ]
    }
   ],
   "source": [
    "password =\"abc123\";\n",
    "chance=3;\n",
    "while chance:\n",
    "    input_ps = input(\"请输入密码\");\n",
    "    if '*' in input_ps:\n",
    "        print(\"* can not be accepted!\");\n",
    "    elif input_ps==password:\n",
    "        print(\"password correct!\");\n",
    "        break;\n",
    "    else:\n",
    "        chance -= 1;\n",
    "        print(\"输入密码错误\");\n",
    "\n",
    "        "
   ]
  },
  {
   "cell_type": "markdown",
   "metadata": {},
   "source": [
    "#for 简单图像打印\n",
    "* * * * * \n",
    "* * * * * \n",
    "* * * * * \n",
    "* * * * * \n",
    "* * * * *"
   ]
  },
  {
   "cell_type": "code",
   "execution_count": 1,
   "metadata": {},
   "outputs": [
    {
     "name": "stdout",
     "output_type": "stream",
     "text": [
      "* * * * * \n",
      "* * * * * \n",
      "* * * * * \n",
      "* * * * * \n",
      "* * * * * \n"
     ]
    }
   ],
   "source": [
    "for i in range(5):\n",
    "    print (\"* \"*5)"
   ]
  },
  {
   "cell_type": "code",
   "execution_count": 3,
   "metadata": {},
   "outputs": [
    {
     "name": "stdout",
     "output_type": "stream",
     "text": [
      "*  *  *  *  *  \n",
      "*  *  *  *  *  \n",
      "*  *  *  *  *  \n",
      "*  *  *  *  *  \n",
      "*  *  *  *  *  \n"
     ]
    }
   ],
   "source": [
    "for i in range(5):\n",
    "    for j in range (5):\n",
    "        print(\"* \",end=\" \")\n",
    "    print()"
   ]
  },
  {
   "cell_type": "code",
   "execution_count": 3,
   "metadata": {},
   "outputs": [
    {
     "name": "stdout",
     "output_type": "stream",
     "text": [
      "* * * * * \n",
      "*       * \n",
      "*       * \n",
      "*       * \n",
      "* * * * * \n"
     ]
    }
   ],
   "source": [
    "#打印图像 \n",
    "'''\n",
    "*  *  *  *  *  \n",
    "*   `       *  \n",
    "*           *  \n",
    "*           *  \n",
    "*  *  *  *  *  \n",
    "\n",
    "'''\n",
    "for i in range(0,5):\n",
    "    if i==0 or i ==4:\n",
    "        for j in range(5):\n",
    "            print(\"*\", end=\" \")\n",
    "        print()\n",
    "    if i==1 or i ==2 or i == 3:\n",
    "        for j in range(5):\n",
    "            if j==0 or j == 4:\n",
    "                print(\"*\",end=\" \")\n",
    "            else:\n",
    "                print(\" \",end=\" \")\n",
    "        print()\n",
    "    "
   ]
  },
  {
   "cell_type": "code",
   "execution_count": 4,
   "metadata": {},
   "outputs": [
    {
     "name": "stdout",
     "output_type": "stream",
     "text": [
      "* \n",
      "* * \n",
      "* * * \n",
      "* * * * \n",
      "* * * * * \n"
     ]
    }
   ],
   "source": [
    "# 打印三角形，实心的\n",
    "'''\n",
    "*\n",
    "**\n",
    "***\n",
    "****\n",
    "*****\n",
    "i控制行号，j控制列号，\n",
    "i从[0,5),遍历相关行\n",
    "j按行号，打印i+1个星星\n",
    "'''\n",
    "for i in range(5):\n",
    "    for j in range(i+1):\n",
    "        print(\"* \", end=\"\")\n",
    "    print()"
   ]
  },
  {
   "cell_type": "code",
   "execution_count": 14,
   "metadata": {},
   "outputs": [
    {
     "name": "stdout",
     "output_type": "stream",
     "text": [
      "* \n",
      "* * \n",
      "*   * \n",
      "*     * \n",
      "* * * * * \n"
     ]
    }
   ],
   "source": [
    "#打印一个空心的三角形\n",
    "'''\n",
    "* \n",
    "* * \n",
    "*   * \n",
    "*     * \n",
    "* * * * * \n",
    "'''\n",
    "\n",
    "for i in range(5):\n",
    "#打印一行，\n",
    "#没一行，打印多少*与行号有关\n",
    "#一行内未打印完不需要换行，打印完换行\n",
    "#判断是否最后一行，如果是则打印全部星号\n",
    "#否则，判断是否第一个和最后一个，如果是打印星，否则打印空\n",
    "    \n",
    "    for j in range(i+1):\n",
    "        if i == 4:\n",
    "            print(\"* \", end=\"\")\n",
    "            continue\n",
    "            \n",
    "        if j == 0 or j == i:\n",
    "            print(\"* \", end =\"\")\n",
    "        else:\n",
    "            print(\"  \",end=\"\")\n",
    "    print()"
   ]
  },
  {
   "cell_type": "code",
   "execution_count": 15,
   "metadata": {},
   "outputs": [
    {
     "name": "stdout",
     "output_type": "stream",
     "text": [
      "* * * * * \n",
      "* * * * \n",
      "* * * \n",
      "* * \n",
      "* \n"
     ]
    }
   ],
   "source": [
    "#倒三角\n",
    "for i in range(5):\n",
    "    for j in range(5-i):\n",
    "        print(\"* \",end=\"\")\n",
    "    print()"
   ]
  },
  {
   "cell_type": "code",
   "execution_count": 25,
   "metadata": {},
   "outputs": [
    {
     "name": "stdout",
     "output_type": "stream",
     "text": [
      "A A A A A \n",
      "A A A A \n",
      "A A A \n",
      "A A \n",
      "A \n"
     ]
    }
   ],
   "source": [
    "for i in range(5,0,-1):\n",
    "    for j in range(i):\n",
    "        print(\"A \", end =\"\")\n",
    "    print()"
   ]
  },
  {
   "cell_type": "code",
   "execution_count": 19,
   "metadata": {},
   "outputs": [
    {
     "name": "stdout",
     "output_type": "stream",
     "text": [
      "* * * * * \n",
      "*     * \n",
      "*   * \n",
      "* * \n",
      "* \n"
     ]
    }
   ],
   "source": [
    "# 打印一个空心的倒三角\n",
    "for i in range(5):\n",
    "    for j in range(5-i):\n",
    "        if i==0:\n",
    "            print(\"* \",end=\"\")\n",
    "            continue # t跳过后续语句\n",
    "            \n",
    "            \n",
    "        if j == 0 or j == 5-i-1:\n",
    "            print(\"* \", end=\"\")\n",
    "        else:\n",
    "            print(\"  \", end=\"\")\n",
    "    print()"
   ]
  },
  {
   "cell_type": "code",
   "execution_count": 23,
   "metadata": {},
   "outputs": [
    {
     "name": "stdout",
     "output_type": "stream",
     "text": [
      "      * \n",
      "     * * \n",
      "    * * * \n",
      "   * * * * \n",
      "  * * * * * \n",
      " * * * * * * \n"
     ]
    }
   ],
   "source": [
    "# 打印等边三角形\n",
    "# 第i行有i个*\n",
    "# 先打空格，再打星星\n",
    "for i in range(6):\n",
    "    for j in range(6-i):\n",
    "        print(\" \",end=\"\")\n",
    "    \n",
    "    for m in range(i+1):\n",
    "        print(\"* \", end=\"\")\n",
    "    print()\n",
    "        "
   ]
  },
  {
   "cell_type": "code",
   "execution_count": 44,
   "metadata": {},
   "outputs": [
    {
     "name": "stdout",
     "output_type": "stream",
     "text": [
      "    * \n",
      "   * * \n",
      "  *   * \n",
      " *     * \n",
      "* * * * * \n"
     ]
    }
   ],
   "source": [
    "# 打印空心等边三角\n",
    "for i in range(1,6):\n",
    "    #更改打印起始位置\n",
    "    for k in range(1,6-i):\n",
    "         print(end=\" \")\n",
    "    #控制列，规则是第一行一列，第二行二列\n",
    "    for j in range( 6-i, 6 ):\n",
    "        if i == 5 or j ==6-i or j ==5:\n",
    "            print(\"*\",end=\" \")\n",
    "        else:\n",
    "            print(\" \",end = \" \")\n",
    "    print()"
   ]
  }
 ],
 "metadata": {
  "kernelspec": {
   "display_name": "Python 3",
   "language": "python",
   "name": "python3"
  },
  "language_info": {
   "codemirror_mode": {
    "name": "ipython",
    "version": 3
   },
   "file_extension": ".py",
   "mimetype": "text/x-python",
   "name": "python",
   "nbconvert_exporter": "python",
   "pygments_lexer": "ipython3",
   "version": "3.7.3"
  }
 },
 "nbformat": 4,
 "nbformat_minor": 2
}
